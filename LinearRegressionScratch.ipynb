{
  "nbformat": 4,
  "nbformat_minor": 0,
  "metadata": {
    "colab": {
      "provenance": []
    },
    "kernelspec": {
      "name": "python3",
      "display_name": "Python 3"
    },
    "language_info": {
      "name": "python"
    }
  },
  "cells": [
    {
      "cell_type": "markdown",
      "source": [
        "## What is Regression?"
      ],
      "metadata": {
        "id": "eMXOs5Xrsxa5"
      }
    },
    {
      "cell_type": "markdown",
      "source": [
        "Regression is a mathematical technique used in machine learning and statistics to predict a continuous value based on some input data."
      ],
      "metadata": {
        "id": "sqnUDIoNs3VO"
      }
    },
    {
      "cell_type": "markdown",
      "source": [
        "## What is Linear Regression?\n"
      ],
      "metadata": {
        "id": "7M9hNNDOrHOO"
      }
    },
    {
      "cell_type": "markdown",
      "source": [
        "Linear regression is a type of regression used to predict a coninuous value based on one or more input features."
      ],
      "metadata": {
        "id": "ck_HBJoGto3b"
      }
    },
    {
      "cell_type": "markdown",
      "source": [
        "## An Example of Linear Regression"
      ],
      "metadata": {
        "id": "N_IPaVISt-CS"
      }
    },
    {
      "cell_type": "markdown",
      "source": [
        "If given a task to predict house prices based on size, linear regression is very usefull to apply here."
      ],
      "metadata": {
        "id": "QR6T892JuD1r"
      }
    },
    {
      "cell_type": "markdown",
      "source": [
        "## Mathematical formula of Linear Regression"
      ],
      "metadata": {
        "id": "WXB3rCCbrpLD"
      }
    },
    {
      "cell_type": "markdown",
      "source": [
        "The formula for linear regression is:\n",
        "\n",
        "\n",
        "                            y = wx + b\n",
        "\n",
        "\n",
        "y: the value we want to predict i.e output.\n",
        "\n",
        "x: the known value or feature i.e input\n",
        "\n",
        "w: the weight vector\n",
        "\n",
        "b: bias"
      ],
      "metadata": {
        "id": "Uyuzg4Vlrtck"
      }
    },
    {
      "cell_type": "markdown",
      "source": [
        "## Mathematical Foundation of Linear Regression"
      ],
      "metadata": {
        "id": "7C6BO-lHtwfd"
      }
    },
    {
      "cell_type": "markdown",
      "source": [
        "#### **Loss Function (Mean Squared Error - MSE)**  \n",
        "\n",
        "The **Loss Function** measures how well the **predicted outputs** match the **actual outputs**.  \n",
        "\n",
        "The **Mean Squared Error (MSE)** is defined as:\n",
        "\n",
        "\n",
        "$$ \\mbox{MSE} = \\frac{1}{n} \\sum_{i=1}^n \\left(\\hat{y}_i - y_i\\right)^2 $$\n",
        "\n",
        "Where:  \n",
        "n: number of data points\n",
        "\n",
        "y: actual output\n",
        "\n",
        "y^: predicted output\n"
      ],
      "metadata": {
        "id": "c72SobjZt00Z"
      }
    },
    {
      "cell_type": "markdown",
      "source": [
        "#### **Mini-Batch Stochastic Gradient Descent (SGD)**  \n",
        "\n",
        "Optimization means adjusting the models parameters to reduce the loss.\n",
        "\n",
        "Gradient descent is an optimization algorithm used to minimize the loss function by adjusting the models parameters (weights and bias).\n",
        "\n",
        "It calculates the gradient (slope) of the loss function and then updates the parameters in the direction that reduces the error.\n",
        "\n",
        "+gradient => ground slopes upward in front of you, and to go downhill you need to step backwards  \n",
        "\n",
        "-gradient => ground slopes downward in front of you, keep moving in that direction.  \n",
        "\n",
        "Mini-batch SGD: updates parameters using a small subset of the dataset at each step.  \n",
        "\n",
        "The update rules for weights and bias are:\n",
        "\n",
        "$$\n",
        "w = w - \\eta \\frac{\\partial L}{\\partial w}, \\quad b = b - \\eta \\frac{\\partial L}{\\partial b}\n",
        "$$\n",
        "\n",
        "Where:  \n",
        "- w: weight parameter\n",
        "- b: bias parameter  \n",
        "- η: learning rate\n",
        "- ∂L/∂w : partial derivative of the loss fucntion with respect to the weights, calculated on the mini-batch\n",
        "- ∂L/∂b : partial derivative of the loss function with respect to the bias, calculated on the minibatch"
      ],
      "metadata": {
        "id": "1A1O_wdewTEY"
      }
    },
    {
      "cell_type": "markdown",
      "source": [
        "## Implement Linear Regression from Scratch"
      ],
      "metadata": {
        "id": "TSx9UdTK1Clt"
      }
    },
    {
      "cell_type": "markdown",
      "source": [
        "1. Define the linear Regession Model"
      ],
      "metadata": {
        "id": "vJQj9Fz21FsC"
      }
    },
    {
      "cell_type": "code",
      "source": [
        "import torch\n",
        "import torch.nn as nn\n",
        "import torch.optim as optim\n",
        "\n",
        "class LinearRegressionModel(nn.Module):\n",
        "    \"\"\"\n",
        "    A Linear Regression Model with key PyTorch methods.\n",
        "    \"\"\"\n",
        "    def __init__(self, input_dim=1, output_dim=1):\n",
        "        super(LinearRegressionModel, self).__init__()\n",
        "        self.layer = nn.Linear(input_dim, output_dim, bias=True)\n",
        "\n",
        "    def forward(self, x):\n",
        "        \"\"\"\n",
        "        Forward pass: Predict output y given input x.\n",
        "        \"\"\"\n",
        "        return self.layer(x)\n",
        "\n",
        "    def loss(self, y_pred, y_true):\n",
        "        \"\"\"\n",
        "        Calculate the Mean Squared Error loss.\n",
        "        \"\"\"\n",
        "        loss_fn = nn.MSELoss()\n",
        "        return loss_fn(y_pred, y_true)\n",
        "\n",
        "    def training_step(self, batch):\n",
        "        \"\"\"\n",
        "        Perform one training step on a batch of data.\n",
        "        \"\"\"\n",
        "        x, y = batch\n",
        "        y_pred = self.forward(x)\n",
        "        loss = self.loss(y_pred, y)\n",
        "        return loss\n",
        "\n",
        "    def validation_step(self, batch):\n",
        "        \"\"\"\n",
        "        Evaluate the model on a validation batch.\n",
        "        \"\"\"\n",
        "        x, y = batch\n",
        "        y_pred = self.forward(x)\n",
        "        loss = self.loss(y_pred, y)\n",
        "        return loss.item()\n",
        "\n",
        "    def configure_optimizers(self):\n",
        "        \"\"\"\n",
        "        Define the optimizer for model training.\n",
        "        \"\"\"\n",
        "        return optim.SGD(self.parameters(), lr=0.01)\n"
      ],
      "metadata": {
        "id": "9IBQ4cCJ2K07"
      },
      "execution_count": 18,
      "outputs": []
    },
    {
      "cell_type": "markdown",
      "source": [
        "2. Define the loss Function"
      ],
      "metadata": {
        "id": "KrJKuwZ62WFm"
      }
    },
    {
      "cell_type": "code",
      "source": [
        "loss_fn = nn.MSELoss()"
      ],
      "metadata": {
        "id": "DkckXOEu2YsY"
      },
      "execution_count": 19,
      "outputs": []
    },
    {
      "cell_type": "markdown",
      "source": [
        "3. Define the optimizer"
      ],
      "metadata": {
        "id": "szjsPCp_2c-T"
      }
    },
    {
      "cell_type": "code",
      "source": [
        "\n",
        "model = LinearRegressionModel()\n",
        "\n",
        "optimizer = model.configure_optimizers()\n"
      ],
      "metadata": {
        "id": "gGaptwo72bdI"
      },
      "execution_count": 20,
      "outputs": []
    },
    {
      "cell_type": "markdown",
      "source": [
        "4.Generating Synthetic Data"
      ],
      "metadata": {
        "id": "xWhKZmDy2kxk"
      }
    },
    {
      "cell_type": "code",
      "source": [
        "# Generate Synthetic Data\n",
        "torch.manual_seed(42)  # For reproducibility\n",
        "\n",
        "# Input (x) and Output (y) Data\n",
        "x = torch.linspace(0, 10, 100).unsqueeze(1)  # Reshape to (100,1)\n",
        "y = 2 * x + 1 + torch.randn(100, 1) * 0.5  # Add noise"
      ],
      "metadata": {
        "id": "mKsY71kN2pnh"
      },
      "execution_count": 21,
      "outputs": []
    },
    {
      "cell_type": "markdown",
      "source": [
        "5.Training Loop"
      ],
      "metadata": {
        "id": "odvt3zMd2sYy"
      }
    },
    {
      "cell_type": "code",
      "source": [
        "# Training Loop\n",
        "epochs = 1000\n",
        "batch_size = 16\n",
        "\n",
        "for epoch in range(epochs):\n",
        "    for i in range(0, len(x), batch_size):\n",
        "        # Get Mini-Batch\n",
        "        x_batch = x[i:i+batch_size]\n",
        "        y_batch = y[i:i+batch_size]\n",
        "\n",
        "        # Forward Pass\n",
        "        y_pred = model(x_batch)\n",
        "        loss = loss_fn(y_pred, y_batch)\n",
        "\n",
        "        # Backward Pass\n",
        "        optimizer.zero_grad()\n",
        "        loss.backward()\n",
        "        optimizer.step()\n",
        "\n",
        "    if epoch % 100 == 0:\n",
        "        print(f'Epoch [{epoch}/{epochs}], Loss: {loss.item():.4f}')\n"
      ],
      "metadata": {
        "colab": {
          "base_uri": "https://localhost:8080/"
        },
        "id": "5ssywMgj2v2h",
        "outputId": "ec8804d4-fc01-416d-f3ca-421a783235db"
      },
      "execution_count": 22,
      "outputs": [
        {
          "output_type": "stream",
          "name": "stdout",
          "text": [
            "Epoch [0/1000], Loss: 0.1348\n",
            "Epoch [100/1000], Loss: 0.0949\n",
            "Epoch [200/1000], Loss: 0.0952\n",
            "Epoch [300/1000], Loss: 0.0952\n",
            "Epoch [400/1000], Loss: 0.0952\n",
            "Epoch [500/1000], Loss: 0.0952\n",
            "Epoch [600/1000], Loss: 0.0952\n",
            "Epoch [700/1000], Loss: 0.0952\n",
            "Epoch [800/1000], Loss: 0.0952\n",
            "Epoch [900/1000], Loss: 0.0952\n"
          ]
        }
      ]
    },
    {
      "cell_type": "markdown",
      "source": [
        "6.Evaluating the Model"
      ],
      "metadata": {
        "id": "Zbw0_TNG23q7"
      }
    },
    {
      "cell_type": "code",
      "source": [
        "model.eval()\n",
        "with torch.no_grad():\n",
        "    y_pred = model(x)\n",
        "\n",
        "# Plot Predictions\n",
        "import matplotlib.pyplot as plt\n",
        "\n",
        "plt.scatter(x.numpy(), y.numpy(), label='Data')\n",
        "plt.plot(x.numpy(), y_pred.numpy(), color='red', label='Fitted Line')\n",
        "plt.title('Linear Regression Fit')\n",
        "plt.xlabel('Input Feature (x)')\n",
        "plt.ylabel('Target (y)')\n",
        "plt.legend()"
      ],
      "metadata": {
        "colab": {
          "base_uri": "https://localhost:8080/",
          "height": 489
        },
        "id": "GmX01emn268X",
        "outputId": "a4a60d35-dbb2-4936-e439-19e27aa01d09"
      },
      "execution_count": 23,
      "outputs": [
        {
          "output_type": "execute_result",
          "data": {
            "text/plain": [
              "<matplotlib.legend.Legend at 0x7a72cea33340>"
            ]
          },
          "metadata": {},
          "execution_count": 23
        },
        {
          "output_type": "display_data",
          "data": {
            "text/plain": [
              "<Figure size 640x480 with 1 Axes>"
            ],
            "image/png": "[encoded data removed]"
          },
          "metadata": {}
        }
      ]
    },
    {
      "cell_type": "markdown",
      "source": [
        "The graph above shows the result of training a linear regression model on the synthetic data.\n",
        "\n",
        "1. The blue dots:\n",
        "\n",
        "  *   Represent the actual data points (input-output pairs).\n",
        "\n",
        "  *   Each dot shows an (x, y) pair from the dataset.\n",
        "\n",
        "  *   The scatter of points indicates some noise in the data.\n",
        "\n",
        "\n",
        "2. The Red Line:\n",
        "    * Shows the predicted relationship between x-input and y-output found by the model\n",
        "    * The line is the best fit straight line calculated to minimize the MSE\n",
        "\n",
        "\n",
        "3. X-axis : Represents the independent variable\n",
        "\n",
        "\n",
        "4. Y-axis : Represents the dependent variable\n",
        "\n",
        "\n",
        "\n"
      ],
      "metadata": {
        "id": "-Lhillk93xOM"
      }
    },
    {
      "cell_type": "markdown",
      "source": [
        "##Interpreting the Graph\n"
      ],
      "metadata": {
        "id": "y4zBeXPX4zHG"
      }
    },
    {
      "cell_type": "markdown",
      "source": [
        "* The red line closely follows the trend of the blue dots, showing that the model successfully captured the linear relationship between x and y.\n",
        "\n",
        "\n",
        "* The scatter (spread) of the blue dots around the red line shows residual noise (imperfections in predictions due to random noise in the data).\n",
        "\n",
        "\n",
        "* The model is well-fitted because the red line passes through the general center of the data points."
      ],
      "metadata": {
        "id": "4pYkeixd421Y"
      }
    }
  ]
}